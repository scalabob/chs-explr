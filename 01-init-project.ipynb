{
 "cells": [
  {
   "cell_type": "code",
   "execution_count": null,
   "id": "21d692fb-cc0f-43a0-b1fa-ea7809d8bbd7",
   "metadata": {},
   "outputs": [],
   "source": [
    "# Which project:\n",
    "# project_slug = \"blackmar-diemer\"\n",
    "# project_slug = \"C91-ruy-lopez-yates\"\n",
    "project_slug = \"C68-ruy-lopez-exchange\"\n"
   ]
  },
  {
   "cell_type": "code",
   "execution_count": null,
   "id": "91e67c53-f71a-4c55-83c2-38b346fa8acc",
   "metadata": {},
   "outputs": [],
   "source": [
    "projects = {\n",
    "    \"blackmar-diemer\": {\n",
    "        \"start_moves\": \"d4 d5 e4 dxe4 Nc3 Nf6 f3 exf3 Nxf3\",\n",
    "        # \"pgn_file\": \"bdg-games-tiny.pgn\",\n",
    "        \"pgn_file\": \"D00-bdg-games.pgn\"\n",
    "    },\n",
    "    \"C91-ruy-lopez-yates\": {\n",
    "        \"start_moves\": \"e4 e5 Nf3 Nc6 Bb5 a6 Ba4 Nf6 O-O Be7 Re1 b5 Bb3 d6 c3 O-O d4 Bg4\",\n",
    "        \"pgn_file\": \"C91-ruy-lopez-yates-games-2024.pgn\"\n",
    "    },\n",
    "    \"C68-ruy-lopez-exchange\": {\n",
    "        \"start_moves\": \"e4 e5 Nf3 Nc6 Bb5 a6 Bxc6 dxc6\",\n",
    "        \"pgn_file\": \"C68-ruy-lopez-exchange-2024.pgn\"\n",
    "    }\n",
    "}"
   ]
  },
  {
   "cell_type": "code",
   "execution_count": null,
   "id": "a201e245-72b9-4722-8017-f0f8008df720",
   "metadata": {},
   "outputs": [],
   "source": [
    "# pgns should be kept within their respective project folders.\n",
    "pgn_dir = f\"./{project_slug}/pgn-data/\""
   ]
  },
  {
   "cell_type": "markdown",
   "id": "3d2462e0-1d30-4452-b404-99595165138e",
   "metadata": {},
   "source": [
    "\n",
    "## Project configuration complete.\n",
    "\n",
    "The rest of the code creates a tree by importing the pgnFile\n"
   ]
  },
  {
   "cell_type": "code",
   "execution_count": null,
   "id": "50bb12df-07c1-475d-ba0e-864bd94201cf",
   "metadata": {},
   "outputs": [],
   "source": [
    "!pip install chess"
   ]
  },
  {
   "cell_type": "code",
   "execution_count": null,
   "id": "8b8ac7f1-ea1f-4a9c-a683-b12f14ba47fe",
   "metadata": {},
   "outputs": [],
   "source": [
    "import chess\n",
    "import chess.pgn"
   ]
  },
  {
   "cell_type": "code",
   "execution_count": null,
   "id": "564a3238-1087-4a7e-be42-580755ed9ad8",
   "metadata": {},
   "outputs": [],
   "source": [
    "# Local classes and functions\n",
    "from chess_tree import ChessTree\n",
    "from fen_utils import position_fen\n",
    "from project_utils import save_tree, print_node"
   ]
  },
  {
   "cell_type": "code",
   "execution_count": null,
   "id": "34e25850-a8b2-496a-922b-b48696ed04c3",
   "metadata": {},
   "outputs": [],
   "source": [
    "def get_start_board(start_moves):\n",
    "    board = chess.Board()\n",
    "    [board.push_san(move) for move in start_moves]\n",
    "    return board\n",
    "\n",
    "def init_tree(start_moves):\n",
    "    board = get_start_board(start_moves)\n",
    "    tree = ChessTree(board)\n",
    "    return tree"
   ]
  },
  {
   "cell_type": "code",
   "execution_count": null,
   "id": "e748bd66-1346-41c0-8c0d-f6fee107603e",
   "metadata": {},
   "outputs": [],
   "source": [
    "project = projects[project_slug]\n",
    "tree = init_tree(project['start_moves'].split(\" \"))\n",
    "pgn = open(f\"{pgn_dir}{project['pgn_file']}\")"
   ]
  },
  {
   "cell_type": "code",
   "execution_count": null,
   "id": "919969c7-c43b-47fd-b8c5-da7ed8842520",
   "metadata": {},
   "outputs": [],
   "source": [
    "count = 0\n",
    "\n",
    "def track_progress():\n",
    "    global count\n",
    "    count += 1\n",
    "    if count % 1000 == 0:\n",
    "        print(\"#\", end='')\n",
    "\n",
    "def batch_load(batch_size):\n",
    "    batch_count = 0\n",
    "    while pgn_game := chess.pgn.read_game(pgn):\n",
    "        tree.add_game(pgn_game)\n",
    "        track_progress()\n",
    "\n",
    "        batch_count += 1\n",
    "        if batch_count == batch_size:\n",
    "            print()\n",
    "            break\n",
    "    print()\n"
   ]
  },
  {
   "cell_type": "code",
   "execution_count": null,
   "id": "28512ab8-c2a2-47cd-b8b8-c3b6f7368748",
   "metadata": {
    "scrolled": true
   },
   "outputs": [],
   "source": [
    "# Repeat this block until all games have loaded\n",
    "batch_load(8000)\n",
    "# batch_load(1000)\n",
    "# batch_load(100)\n",
    "# batch_load(10)\n",
    "print(f\"[PGN] Imported {count} games.\")\n",
    "# print(\"[TREE] FenMap:\", tree.map.fenIdx)\n",
    "# print(\"[TREE] HashMap:\", tree.map.hashIdx)\n"
   ]
  },
  {
   "cell_type": "code",
   "execution_count": null,
   "id": "471c2620-49eb-43b7-b460-880762012fe7",
   "metadata": {},
   "outputs": [],
   "source": [
    "save_tree(project_slug, tree)"
   ]
  },
  {
   "cell_type": "code",
   "execution_count": null,
   "id": "94fbbb97-29ca-4aa8-ae7e-73944a978bc3",
   "metadata": {},
   "outputs": [],
   "source": [
    "print_node(tree, tree.startFen)\n",
    "\n",
    "if project_slug == 'blackmar-diemer':\n",
    "    print_node(tree, 'rn1qkb1r/ppp1pppp/5n2/8/3P2b1/2N2N2/PPP3PP/R1BQKB1R w KQkq -')\n",
    "    print_node(tree, 'rn1qkb1r/ppp1pppp/5n2/8/3P2b1/2N2N1P/PPP3P1/R1BQKB1R b KQkq -')\n",
    "    print_node(tree, 'rn1qkb1r/ppp1pppp/5n2/8/3P4/2N2b1P/PPP3P1/R1BQKB1R w KQkq -')\n",
    "    print_node(tree, 'rn1qkb1r/ppp1pppp/5n2/8/3P4/2N2Q1P/PPP3P1/R1B1KB1R b KQkq -')\n",
    "    print_node(tree, 'rn1qkb1r/pp2pppp/2p2n2/8/3P4/2N2Q1P/PPP3P1/R1B1KB1R w KQkq -')\n"
   ]
  }
 ],
 "metadata": {
  "kernelspec": {
   "display_name": "Python 3 (ipykernel)",
   "language": "python",
   "name": "python3"
  },
  "language_info": {
   "codemirror_mode": {
    "name": "ipython",
    "version": 3
   },
   "file_extension": ".py",
   "mimetype": "text/x-python",
   "name": "python",
   "nbconvert_exporter": "python",
   "pygments_lexer": "ipython3",
   "version": "3.11.6"
  }
 },
 "nbformat": 4,
 "nbformat_minor": 5
}
