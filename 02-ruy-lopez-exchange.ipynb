{
 "cells": [
  {
   "cell_type": "code",
   "execution_count": 2,
   "id": "a4b98b53-5054-4065-b9af-c2bb3009c2b0",
   "metadata": {},
   "outputs": [],
   "source": [
    "project_slug = 'C68-ruy-lopez-exchange'"
   ]
  },
  {
   "cell_type": "code",
   "execution_count": 2,
   "id": "7d3d046b-86cf-4564-aac5-6b65bdccb94e",
   "metadata": {},
   "outputs": [
    {
     "name": "stdout",
     "output_type": "stream",
     "text": [
      "Requirement already satisfied: chess in /opt/conda/lib/python3.11/site-packages (1.11.2)\n"
     ]
    }
   ],
   "source": [
    "!pip install chess"
   ]
  },
  {
   "cell_type": "code",
   "execution_count": null,
   "id": "92e0d583-2706-4872-a9b4-f62c3afc7fe3",
   "metadata": {},
   "outputs": [],
   "source": [
    "import chess\n",
    "from traversal import MainLineTreeTraversal\n",
    "from project_utils import load_tree, print_node\n",
    "tree = load_tree(project_slug)"
   ]
  },
  {
   "cell_type": "code",
   "execution_count": null,
   "id": "0bae4a3e-c557-4ab9-b2e9-73b0ee6c7253",
   "metadata": {},
   "outputs": [],
   "source": [
    "traversal = MainLineTreeTraversal(tree, min_visits=10)\n",
    "\n",
    "# See the opening tree after 4... dxc6\n",
    "board = chess.Board(tree.startFen)\n",
    "board"
   ]
  },
  {
   "cell_type": "code",
   "execution_count": null,
   "id": "cac982c7-04e6-4964-b61b-1fa788ed8671",
   "metadata": {},
   "outputs": [],
   "source": [
    "traversal.traverse(board.fen(), max_depth=4, min_visits=100)"
   ]
  },
  {
   "cell_type": "code",
   "execution_count": null,
   "id": "e5c06785-0beb-4091-ad85-b90a54ecee18",
   "metadata": {},
   "outputs": [],
   "source": [
    "# # Go into 10. Be3 exd4 11. cxd4 Na5 12. Bc2 Nc4 13. Bc1 c5 14. b3 Nb6\n",
    "# board.push_uci('c1e3')\n",
    "# board.push_uci('e5d4')\n",
    "# board.push_uci('c3d4')\n",
    "# board.push_uci('c6a5')\n",
    "# board.push_uci('b3c2')\n",
    "# board.push_uci('a5c4')\n",
    "# board.push_uci('e3c1')\n",
    "# board.push_uci('c7c5')\n",
    "# board.push_uci('b2b3')\n",
    "\n",
    "# board"
   ]
  },
  {
   "cell_type": "code",
   "execution_count": null,
   "id": "cee3b2fe-9ffd-4407-a909-c9cd9ff46537",
   "metadata": {},
   "outputs": [],
   "source": [
    "# traversal.traverse(board.fen(), max_depth=3)"
   ]
  }
 ],
 "metadata": {
  "kernelspec": {
   "display_name": "Python 3 (ipykernel)",
   "language": "python",
   "name": "python3"
  },
  "language_info": {
   "codemirror_mode": {
    "name": "ipython",
    "version": 3
   },
   "file_extension": ".py",
   "mimetype": "text/x-python",
   "name": "python",
   "nbconvert_exporter": "python",
   "pygments_lexer": "ipython3",
   "version": "3.11.6"
  }
 },
 "nbformat": 4,
 "nbformat_minor": 5
}
